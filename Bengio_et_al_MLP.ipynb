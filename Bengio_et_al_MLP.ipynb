{
  "nbformat": 4,
  "nbformat_minor": 0,
  "metadata": {
    "colab": {
      "provenance": []
    },
    "kernelspec": {
      "name": "python3",
      "display_name": "Python 3"
    },
    "language_info": {
      "name": "python"
    }
  },
  "cells": [
    {
      "cell_type": "markdown",
      "source": [
        "# 📒 Understanding the Dataset"
      ],
      "metadata": {
        "id": "dwoBY6dSjNTw"
      }
    },
    {
      "cell_type": "code",
      "execution_count": 1,
      "metadata": {
        "id": "b-t4sUpE2pA9"
      },
      "outputs": [],
      "source": [
        "import torch\n",
        "import torch.nn.functional as F\n",
        "import matplotlib.pyplot as plt\n",
        "%matplotlib inline"
      ]
    },
    {
      "cell_type": "code",
      "source": [
        "words = open('/content/names.txt', 'r').read().splitlines()\n",
        "\n",
        "# '''\n",
        "#   open('/content/names.txt', 'r') - opens the file in READ MODE and returns a FILE OBJECT (not the text itself yet).\n",
        "#   .read() - reads the entire content of the file into a 'SINGLE STRING'.\n",
        "#   .splitlines() - splits that big string into a list of lines (i.e., splits at every newline \\n).\n",
        "# '''"
      ],
      "metadata": {
        "id": "6cLWDeNit94P"
      },
      "execution_count": 2,
      "outputs": []
    },
    {
      "cell_type": "code",
      "source": [
        "words[:9]"
      ],
      "metadata": {
        "colab": {
          "base_uri": "https://localhost:8080/"
        },
        "id": "UtcnvoN2uYIa",
        "outputId": "4520ee8f-e6c9-4fad-88ec-a0f0b6a4254a"
      },
      "execution_count": 3,
      "outputs": [
        {
          "output_type": "execute_result",
          "data": {
            "text/plain": [
              "['emma',\n",
              " 'olivia',\n",
              " 'ava',\n",
              " 'isabella',\n",
              " 'sophia',\n",
              " 'charlotte',\n",
              " 'mia',\n",
              " 'amelia',\n",
              " 'harper']"
            ]
          },
          "metadata": {},
          "execution_count": 3
        }
      ]
    },
    {
      "cell_type": "code",
      "source": [
        "type(words)"
      ],
      "metadata": {
        "colab": {
          "base_uri": "https://localhost:8080/"
        },
        "id": "zDj7tYDa0BHe",
        "outputId": "729acc2e-2302-4fc0-890e-8060c9eeb4ef"
      },
      "execution_count": 4,
      "outputs": [
        {
          "output_type": "execute_result",
          "data": {
            "text/plain": [
              "list"
            ]
          },
          "metadata": {},
          "execution_count": 4
        }
      ]
    },
    {
      "cell_type": "code",
      "source": [
        "len(words)"
      ],
      "metadata": {
        "colab": {
          "base_uri": "https://localhost:8080/"
        },
        "id": "8hNIIsJEuZz4",
        "outputId": "b17428e2-53e2-4ef8-a43c-0c8797ea3deb"
      },
      "execution_count": 5,
      "outputs": [
        {
          "output_type": "execute_result",
          "data": {
            "text/plain": [
              "32033"
            ]
          },
          "metadata": {},
          "execution_count": 5
        }
      ]
    },
    {
      "cell_type": "code",
      "source": [
        "chars = sorted(list(set(\"\".join(words))))   # creating vocabulary\n",
        "stoi = {c:i+1 for i, c in enumerate(chars)}\n",
        "stoi['.'] = 0\n",
        "itos = {i:c for c, i in stoi.items()}\n",
        "itos"
      ],
      "metadata": {
        "colab": {
          "base_uri": "https://localhost:8080/"
        },
        "id": "JqE6eUGAu96c",
        "outputId": "4b2ea4f3-8cbb-40c7-d0b7-7890ffce6634"
      },
      "execution_count": 6,
      "outputs": [
        {
          "output_type": "execute_result",
          "data": {
            "text/plain": [
              "{1: 'a',\n",
              " 2: 'b',\n",
              " 3: 'c',\n",
              " 4: 'd',\n",
              " 5: 'e',\n",
              " 6: 'f',\n",
              " 7: 'g',\n",
              " 8: 'h',\n",
              " 9: 'i',\n",
              " 10: 'j',\n",
              " 11: 'k',\n",
              " 12: 'l',\n",
              " 13: 'm',\n",
              " 14: 'n',\n",
              " 15: 'o',\n",
              " 16: 'p',\n",
              " 17: 'q',\n",
              " 18: 'r',\n",
              " 19: 's',\n",
              " 20: 't',\n",
              " 21: 'u',\n",
              " 22: 'v',\n",
              " 23: 'w',\n",
              " 24: 'x',\n",
              " 25: 'y',\n",
              " 26: 'z',\n",
              " 0: '.'}"
            ]
          },
          "metadata": {},
          "execution_count": 6
        }
      ]
    },
    {
      "cell_type": "markdown",
      "source": [
        "### Creating the Dataset"
      ],
      "metadata": {
        "id": "FY3Yl0c_vH3V"
      }
    },
    {
      "cell_type": "code",
      "source": [
        "block_size = 3    # context length: how many previous characters we want to consider for predicting the next word\n",
        "x, y = [], []\n",
        "\n",
        "for w in words[:4]:\n",
        "  context = [0] * block_size\n",
        "  print(w)\n",
        "  for ch in w + '.':\n",
        "    idx = stoi[ch]\n",
        "    x.append(context)\n",
        "    y.append(idx)\n",
        "    print(\"\".join(itos[i] for i in context), '--->', ch)\n",
        "    context = context[1:] + [idx]    # crop and append\n",
        "\n",
        "x = torch.tensor(x)\n",
        "y = torch.tensor(y)"
      ],
      "metadata": {
        "colab": {
          "base_uri": "https://localhost:8080/"
        },
        "id": "1Z7BUofNw7_g",
        "outputId": "85184265-c1c4-4e82-c88d-7c7fe92999dd"
      },
      "execution_count": 7,
      "outputs": [
        {
          "output_type": "stream",
          "name": "stdout",
          "text": [
            "emma\n",
            "... ---> e\n",
            "..e ---> m\n",
            ".em ---> m\n",
            "emm ---> a\n",
            "mma ---> .\n",
            "olivia\n",
            "... ---> o\n",
            "..o ---> l\n",
            ".ol ---> i\n",
            "oli ---> v\n",
            "liv ---> i\n",
            "ivi ---> a\n",
            "via ---> .\n",
            "ava\n",
            "... ---> a\n",
            "..a ---> v\n",
            ".av ---> a\n",
            "ava ---> .\n",
            "isabella\n",
            "... ---> i\n",
            "..i ---> s\n",
            ".is ---> a\n",
            "isa ---> b\n",
            "sab ---> e\n",
            "abe ---> l\n",
            "bel ---> l\n",
            "ell ---> a\n",
            "lla ---> .\n"
          ]
        }
      ]
    },
    {
      "cell_type": "code",
      "source": [
        "x"
      ],
      "metadata": {
        "colab": {
          "base_uri": "https://localhost:8080/"
        },
        "id": "8zFYiuS52RkG",
        "outputId": "66e3e671-9a34-41bd-a502-c1af45dcc926"
      },
      "execution_count": 8,
      "outputs": [
        {
          "output_type": "execute_result",
          "data": {
            "text/plain": [
              "tensor([[ 0,  0,  0],\n",
              "        [ 0,  0,  5],\n",
              "        [ 0,  5, 13],\n",
              "        [ 5, 13, 13],\n",
              "        [13, 13,  1],\n",
              "        [ 0,  0,  0],\n",
              "        [ 0,  0, 15],\n",
              "        [ 0, 15, 12],\n",
              "        [15, 12,  9],\n",
              "        [12,  9, 22],\n",
              "        [ 9, 22,  9],\n",
              "        [22,  9,  1],\n",
              "        [ 0,  0,  0],\n",
              "        [ 0,  0,  1],\n",
              "        [ 0,  1, 22],\n",
              "        [ 1, 22,  1],\n",
              "        [ 0,  0,  0],\n",
              "        [ 0,  0,  9],\n",
              "        [ 0,  9, 19],\n",
              "        [ 9, 19,  1],\n",
              "        [19,  1,  2],\n",
              "        [ 1,  2,  5],\n",
              "        [ 2,  5, 12],\n",
              "        [ 5, 12, 12],\n",
              "        [12, 12,  1]])"
            ]
          },
          "metadata": {},
          "execution_count": 8
        }
      ]
    },
    {
      "cell_type": "code",
      "source": [
        "y"
      ],
      "metadata": {
        "colab": {
          "base_uri": "https://localhost:8080/"
        },
        "id": "RYKjc74O3chb",
        "outputId": "01a98206-5623-41fb-d593-42ad24d4fee9"
      },
      "execution_count": 9,
      "outputs": [
        {
          "output_type": "execute_result",
          "data": {
            "text/plain": [
              "tensor([ 5, 13, 13,  1,  0, 15, 12,  9, 22,  9,  1,  0,  1, 22,  1,  0,  9, 19,\n",
              "         1,  2,  5, 12, 12,  1,  0])"
            ]
          },
          "metadata": {},
          "execution_count": 9
        }
      ]
    },
    {
      "cell_type": "code",
      "source": [
        "x.shape, x.dtype, y.shape, y.dtype"
      ],
      "metadata": {
        "id": "G9fcbp6h3da0",
        "colab": {
          "base_uri": "https://localhost:8080/"
        },
        "outputId": "6f90314a-3c9d-401f-f6e0-ce62c512caec"
      },
      "execution_count": 10,
      "outputs": [
        {
          "output_type": "execute_result",
          "data": {
            "text/plain": [
              "(torch.Size([25, 3]), torch.int64, torch.Size([25]), torch.int64)"
            ]
          },
          "metadata": {},
          "execution_count": 10
        }
      ]
    },
    {
      "cell_type": "markdown",
      "source": [
        "# 🗃️ PyTorch indexing is Awesome !"
      ],
      "metadata": {
        "id": "jtRwr6O3g4pp"
      }
    },
    {
      "cell_type": "code",
      "source": [
        "C = torch.randn((27, 2))"
      ],
      "metadata": {
        "id": "Qjior4BchCZK"
      },
      "execution_count": 11,
      "outputs": []
    },
    {
      "cell_type": "code",
      "source": [
        "C[5]"
      ],
      "metadata": {
        "colab": {
          "base_uri": "https://localhost:8080/"
        },
        "id": "afRVrwJdhSGa",
        "outputId": "9ec1e12f-69d5-41a5-e382-3971a5e8b2a0"
      },
      "execution_count": 12,
      "outputs": [
        {
          "output_type": "execute_result",
          "data": {
            "text/plain": [
              "tensor([ 0.1404, -0.0569])"
            ]
          },
          "metadata": {},
          "execution_count": 12
        }
      ]
    },
    {
      "cell_type": "code",
      "source": [
        "C[[3, 4, 5]]"
      ],
      "metadata": {
        "colab": {
          "base_uri": "https://localhost:8080/"
        },
        "id": "iMNE6QwjhoD-",
        "outputId": "d885e76c-3cb8-4c2c-a0ff-57f27685ba85"
      },
      "execution_count": 13,
      "outputs": [
        {
          "output_type": "execute_result",
          "data": {
            "text/plain": [
              "tensor([[ 2.3102, -0.1308],\n",
              "        [-1.0459, -0.1079],\n",
              "        [ 0.1404, -0.0569]])"
            ]
          },
          "metadata": {},
          "execution_count": 13
        }
      ]
    },
    {
      "cell_type": "code",
      "source": [
        "C[x].shape      # embeds entire x; shape -> (no. of inputs, context window, embedding vector length)"
      ],
      "metadata": {
        "colab": {
          "base_uri": "https://localhost:8080/"
        },
        "id": "62YwupiJh3C-",
        "outputId": "445b29d5-ffa7-45ff-8401-d901af8b2ba4"
      },
      "execution_count": 14,
      "outputs": [
        {
          "output_type": "execute_result",
          "data": {
            "text/plain": [
              "torch.Size([25, 3, 2])"
            ]
          },
          "metadata": {},
          "execution_count": 14
        }
      ]
    },
    {
      "cell_type": "code",
      "source": [
        "x[17, 2]"
      ],
      "metadata": {
        "colab": {
          "base_uri": "https://localhost:8080/"
        },
        "id": "GOzgcj8Lh4tg",
        "outputId": "0292dd2d-1b2b-4f20-9da1-b44fd082da30"
      },
      "execution_count": 15,
      "outputs": [
        {
          "output_type": "execute_result",
          "data": {
            "text/plain": [
              "tensor(9)"
            ]
          },
          "metadata": {},
          "execution_count": 15
        }
      ]
    },
    {
      "cell_type": "code",
      "source": [
        "C[x][17, 2]"
      ],
      "metadata": {
        "colab": {
          "base_uri": "https://localhost:8080/"
        },
        "id": "cvGLeQu_inUD",
        "outputId": "aac7f215-eb4c-496b-b4cc-75d78c71ad6f"
      },
      "execution_count": 16,
      "outputs": [
        {
          "output_type": "execute_result",
          "data": {
            "text/plain": [
              "tensor([-0.2641,  0.9783])"
            ]
          },
          "metadata": {},
          "execution_count": 16
        }
      ]
    },
    {
      "cell_type": "code",
      "source": [
        "C[9]    # same same, but different INDEXING style!"
      ],
      "metadata": {
        "colab": {
          "base_uri": "https://localhost:8080/"
        },
        "id": "BOCzmgIKitOU",
        "outputId": "cdf97508-663a-4566-bf88-f305a57f8b86"
      },
      "execution_count": 17,
      "outputs": [
        {
          "output_type": "execute_result",
          "data": {
            "text/plain": [
              "tensor([-0.2641,  0.9783])"
            ]
          },
          "metadata": {},
          "execution_count": 17
        }
      ]
    },
    {
      "cell_type": "markdown",
      "source": [
        "# 🔗 Creating Layers"
      ],
      "metadata": {
        "id": "Nti3A5WnivCj"
      }
    },
    {
      "cell_type": "markdown",
      "source": [
        "## 1. Embedding layer"
      ],
      "metadata": {
        "id": "50mV3iGhgJGl"
      }
    },
    {
      "cell_type": "code",
      "source": [
        "emb = C[x]\n",
        "emb.shape"
      ],
      "metadata": {
        "colab": {
          "base_uri": "https://localhost:8080/"
        },
        "id": "G273eZNijGRm",
        "outputId": "b5504712-ad4c-4590-94ab-625c48888df8"
      },
      "execution_count": 18,
      "outputs": [
        {
          "output_type": "execute_result",
          "data": {
            "text/plain": [
              "torch.Size([25, 3, 2])"
            ]
          },
          "metadata": {},
          "execution_count": 18
        }
      ]
    },
    {
      "cell_type": "markdown",
      "source": [
        "## 2. Hidden layer"
      ],
      "metadata": {
        "id": "Joly_9_BpmlG"
      }
    },
    {
      "cell_type": "code",
      "source": [
        "w1 = torch.randn((6, 100))    # 100 neurons in hidden layer\n",
        "b1 = torch.randn((100))"
      ],
      "metadata": {
        "id": "HYKYh-OF-XdE"
      },
      "execution_count": 19,
      "outputs": []
    },
    {
      "cell_type": "markdown",
      "source": [
        "emb @ w1 + b1\n",
        "\n",
        "\n",
        "---------------------------------------------------------------------------\n",
        "*RuntimeError                              Traceback (most recent call last)*\n",
        "*<ipython-input-20-1498f270eab1> in <cell line: 0>()*\n",
        "*----> 1 emb @ w1 + b1*\n",
        "\n",
        "*RuntimeError: mat1 and mat2 shapes cannot be multiplied (75x2 and 6x100)*\n",
        "\n",
        "\n",
        "### NOTE: Can't perform matrix multiplication due to unmatching dimensions"
      ],
      "metadata": {
        "id": "2C-44kxSjIPd"
      }
    },
    {
      "cell_type": "markdown",
      "source": [
        "### 1. Using torch.cat()"
      ],
      "metadata": {
        "id": "E3SPABbJFU5Q"
      }
    },
    {
      "cell_type": "markdown",
      "source": [
        "--> inefficient as it creates new memory"
      ],
      "metadata": {
        "id": "wMCLo66_KA40"
      }
    },
    {
      "cell_type": "code",
      "source": [
        "emb.shape"
      ],
      "metadata": {
        "colab": {
          "base_uri": "https://localhost:8080/"
        },
        "id": "fJ_I7XwZF_F9",
        "outputId": "a43b3e6f-c6d6-4e37-90cb-d6432b313c3b"
      },
      "execution_count": 20,
      "outputs": [
        {
          "output_type": "execute_result",
          "data": {
            "text/plain": [
              "torch.Size([25, 3, 2])"
            ]
          },
          "metadata": {},
          "execution_count": 20
        }
      ]
    },
    {
      "cell_type": "code",
      "source": [
        "emb[:, 0, :].shape    # extracting embedding vector for 1st character of the preceding 3 characters of context"
      ],
      "metadata": {
        "colab": {
          "base_uri": "https://localhost:8080/"
        },
        "id": "hodhec99Fc2Q",
        "outputId": "dfd65de8-9ced-47c0-d70f-f2abc1b1ad73"
      },
      "execution_count": 21,
      "outputs": [
        {
          "output_type": "execute_result",
          "data": {
            "text/plain": [
              "torch.Size([25, 2])"
            ]
          },
          "metadata": {},
          "execution_count": 21
        }
      ]
    },
    {
      "cell_type": "code",
      "source": [
        "torch.cat([emb[:, 0, :],emb[:, 1, :], emb[:, 2, :]], 1).shape"
      ],
      "metadata": {
        "colab": {
          "base_uri": "https://localhost:8080/"
        },
        "id": "FgG6u8tkFhVI",
        "outputId": "32b92346-7d28-4762-b3c0-47f12b0db1dc"
      },
      "execution_count": 22,
      "outputs": [
        {
          "output_type": "execute_result",
          "data": {
            "text/plain": [
              "torch.Size([25, 6])"
            ]
          },
          "metadata": {},
          "execution_count": 22
        }
      ]
    },
    {
      "cell_type": "markdown",
      "source": [
        "performing similar operation using .unbind()"
      ],
      "metadata": {
        "id": "B2SEcu1CGRcV"
      }
    },
    {
      "cell_type": "code",
      "source": [
        "torch.cat(torch.unbind(emb, 1), 1).shape      # unbinding along dim=1"
      ],
      "metadata": {
        "colab": {
          "base_uri": "https://localhost:8080/"
        },
        "id": "-aklSdX2F5mr",
        "outputId": "5638d2a8-a328-4374-cf32-b7c61c1c2833"
      },
      "execution_count": 23,
      "outputs": [
        {
          "output_type": "execute_result",
          "data": {
            "text/plain": [
              "torch.Size([25, 6])"
            ]
          },
          "metadata": {},
          "execution_count": 23
        }
      ]
    },
    {
      "cell_type": "markdown",
      "source": [
        "### 2. Using torch.view()"
      ],
      "metadata": {
        "id": "RF67v2bbGH1s"
      }
    },
    {
      "cell_type": "markdown",
      "source": [
        "--> very much efficient due to PYTORCH INTERNALS"
      ],
      "metadata": {
        "id": "vnI8w11sKD4r"
      }
    },
    {
      "cell_type": "code",
      "source": [
        "a = torch.arange(18)\n",
        "a"
      ],
      "metadata": {
        "colab": {
          "base_uri": "https://localhost:8080/"
        },
        "id": "nSPxm69qG6Dy",
        "outputId": "991433b7-9c7f-4cee-aa8b-7e89909e6338"
      },
      "execution_count": 24,
      "outputs": [
        {
          "output_type": "execute_result",
          "data": {
            "text/plain": [
              "tensor([ 0,  1,  2,  3,  4,  5,  6,  7,  8,  9, 10, 11, 12, 13, 14, 15, 16, 17])"
            ]
          },
          "metadata": {},
          "execution_count": 24
        }
      ]
    },
    {
      "cell_type": "code",
      "source": [
        "a.shape"
      ],
      "metadata": {
        "colab": {
          "base_uri": "https://localhost:8080/"
        },
        "id": "QCYCBC5MH1e4",
        "outputId": "09c87258-8b30-4183-c8ec-e89b15eb13ba"
      },
      "execution_count": 25,
      "outputs": [
        {
          "output_type": "execute_result",
          "data": {
            "text/plain": [
              "torch.Size([18])"
            ]
          },
          "metadata": {},
          "execution_count": 25
        }
      ]
    },
    {
      "cell_type": "code",
      "source": [
        "a.view(3, 6)"
      ],
      "metadata": {
        "colab": {
          "base_uri": "https://localhost:8080/"
        },
        "id": "ott--jSfH6SG",
        "outputId": "11a6a8f3-dc67-4623-b32c-106722dce454"
      },
      "execution_count": 26,
      "outputs": [
        {
          "output_type": "execute_result",
          "data": {
            "text/plain": [
              "tensor([[ 0,  1,  2,  3,  4,  5],\n",
              "        [ 6,  7,  8,  9, 10, 11],\n",
              "        [12, 13, 14, 15, 16, 17]])"
            ]
          },
          "metadata": {},
          "execution_count": 26
        }
      ]
    },
    {
      "cell_type": "code",
      "source": [
        "emb.view(-1, 6).shape"
      ],
      "metadata": {
        "colab": {
          "base_uri": "https://localhost:8080/"
        },
        "id": "YbzWZ_mKIXod",
        "outputId": "d3fc23f8-8b6a-401b-d6ad-23ca73ad8358"
      },
      "execution_count": 27,
      "outputs": [
        {
          "output_type": "execute_result",
          "data": {
            "text/plain": [
              "torch.Size([25, 6])"
            ]
          },
          "metadata": {},
          "execution_count": 27
        }
      ]
    },
    {
      "cell_type": "code",
      "source": [
        "h = torch.tanh(emb.view(-1, 6) @ w1 + b1)   # b1 performs broadcasting\n",
        "h.shape"
      ],
      "metadata": {
        "colab": {
          "base_uri": "https://localhost:8080/"
        },
        "id": "WuNtoFZyJRYL",
        "outputId": "0fe623e7-aa5f-467e-e757-64b27a9dab39"
      },
      "execution_count": 28,
      "outputs": [
        {
          "output_type": "execute_result",
          "data": {
            "text/plain": [
              "torch.Size([25, 100])"
            ]
          },
          "metadata": {},
          "execution_count": 28
        }
      ]
    },
    {
      "cell_type": "markdown",
      "source": [
        "## 3. Final layer\n"
      ],
      "metadata": {
        "id": "eeMaygVcpsJG"
      }
    },
    {
      "cell_type": "code",
      "source": [
        "w2 = torch.randn((100, 27))\n",
        "b2 = torch.randn((27))"
      ],
      "metadata": {
        "id": "KdOU1tNaJXVL"
      },
      "execution_count": 29,
      "outputs": []
    },
    {
      "cell_type": "code",
      "source": [
        "logits = h @ w2 + b2\n",
        "counts = logits.exp()\n",
        "probs = counts / counts.sum(1, keepdims=True)\n",
        "loss = -probs[torch.arange(25), y].log().mean()   # NLL\n",
        "loss"
      ],
      "metadata": {
        "colab": {
          "base_uri": "https://localhost:8080/"
        },
        "id": "WCqUL3OkLJn1",
        "outputId": "454e82d4-3255-49c3-87bc-79a6933dc41c"
      },
      "execution_count": 30,
      "outputs": [
        {
          "output_type": "execute_result",
          "data": {
            "text/plain": [
              "tensor(15.1504)"
            ]
          },
          "metadata": {},
          "execution_count": 30
        }
      ]
    },
    {
      "cell_type": "code",
      "source": [
        "probs[0].sum()"
      ],
      "metadata": {
        "colab": {
          "base_uri": "https://localhost:8080/"
        },
        "id": "5uDuGDDELuvQ",
        "outputId": "11b2861d-7030-473e-c5a1-2a0b319efc96"
      },
      "execution_count": 31,
      "outputs": [
        {
          "output_type": "execute_result",
          "data": {
            "text/plain": [
              "tensor(1.)"
            ]
          },
          "metadata": {},
          "execution_count": 31
        }
      ]
    },
    {
      "cell_type": "code",
      "source": [
        "probs.shape   # (no. of examples, no. of possible chars)"
      ],
      "metadata": {
        "colab": {
          "base_uri": "https://localhost:8080/"
        },
        "id": "HoBZFhMQLwaX",
        "outputId": "bc455e2f-1df1-4191-8ab6-2e72fd798878"
      },
      "execution_count": 32,
      "outputs": [
        {
          "output_type": "execute_result",
          "data": {
            "text/plain": [
              "torch.Size([25, 27])"
            ]
          },
          "metadata": {},
          "execution_count": 32
        }
      ]
    },
    {
      "cell_type": "markdown",
      "source": [
        "# 📌 Model Summary"
      ],
      "metadata": {
        "id": "8A6Q_ARnN5F1"
      }
    },
    {
      "cell_type": "code",
      "source": [
        "# input and target shape\n",
        "\n",
        "x.shape, y.shape"
      ],
      "metadata": {
        "colab": {
          "base_uri": "https://localhost:8080/"
        },
        "id": "vjBQTVPzu7xG",
        "outputId": "4756e036-58fd-4729-e0b4-65b7aede2af5"
      },
      "execution_count": 33,
      "outputs": [
        {
          "output_type": "execute_result",
          "data": {
            "text/plain": [
              "(torch.Size([25, 3]), torch.Size([25]))"
            ]
          },
          "metadata": {},
          "execution_count": 33
        }
      ]
    },
    {
      "cell_type": "code",
      "source": [
        "# parameters\n",
        "\n",
        "g = torch.Generator().manual_seed(26451342)   # for reproducibility\n",
        "C = torch.randn((27, 2), generator=g)\n",
        "w1 = torch.randn((6, 100), generator=g)\n",
        "b1 = torch.randn((100), generator=g)\n",
        "w2 = torch.randn((100, 27), generator=g)\n",
        "b2 = torch.randn((27), generator=g)\n",
        "\n",
        "parameters = [C, w1, b1, w2, b2]"
      ],
      "metadata": {
        "id": "divGZpaYuYJz"
      },
      "execution_count": 34,
      "outputs": []
    },
    {
      "cell_type": "code",
      "source": [
        "sum(p.nelement() for p in parameters)   # total no of parameters"
      ],
      "metadata": {
        "colab": {
          "base_uri": "https://localhost:8080/"
        },
        "id": "cPoRc7kWuvJu",
        "outputId": "18593d54-2900-40bf-dcd3-c716fbf482ec"
      },
      "execution_count": 35,
      "outputs": [
        {
          "output_type": "execute_result",
          "data": {
            "text/plain": [
              "3481"
            ]
          },
          "metadata": {},
          "execution_count": 35
        }
      ]
    },
    {
      "cell_type": "code",
      "source": [
        "for p in parameters:\n",
        "  p.requires_grad = True"
      ],
      "metadata": {
        "id": "cRIbKO0wmog_"
      },
      "execution_count": 36,
      "outputs": []
    },
    {
      "cell_type": "code",
      "source": [
        "for _ in range(1000):\n",
        "  # forward pass\n",
        "  emb = C[x]    # [25, 3, 2]\n",
        "  h = torch.tanh(emb.view(-1, 6) @ w1 + b1)   # [25, 100]\n",
        "  logits = h @ w2 + b2    # [25, 27]\n",
        "  # counts = logits.exp()\n",
        "  # probs = counts / counts.sum(1, keepdims=True)\n",
        "  # loss = -probs[torch.arange(25), y].log().mean()\n",
        "  loss = F.cross_entropy(logits, y)                   # we prefer this instead of the above 3 lines\n",
        "\n",
        "  # backward pass\n",
        "  for p in parameters:\n",
        "    p.grad = None\n",
        "  loss.backward()                # computationally most heavy step\n",
        "  # parameter update\n",
        "  for p in parameters:\n",
        "    p.data -= 0.1 * p.grad\n",
        "\n",
        "print(loss.item())    # due to less no of examples (ie 25) and relatively large no of parameter (ie 3481), overfitting occurs for the batch of data and so the low loss"
      ],
      "metadata": {
        "colab": {
          "base_uri": "https://localhost:8080/"
        },
        "id": "4QyprqD7vl7y",
        "outputId": "4129ad2f-03e9-494c-9730-382ef2bf46bb"
      },
      "execution_count": 37,
      "outputs": [
        {
          "output_type": "stream",
          "name": "stdout",
          "text": [
            "0.2254951149225235\n"
          ]
        }
      ]
    },
    {
      "cell_type": "markdown",
      "source": [
        "# 🤖 Full Training"
      ],
      "metadata": {
        "id": "R3DW4j_Dwrl4"
      }
    },
    {
      "cell_type": "code",
      "source": [
        "# Reading the full dataset\n",
        "block_size = 3    # context length: how many previous characters we want to consider for predicting the next word\n",
        "x, y = [], []\n",
        "\n",
        "for w in words:\n",
        "  context = [0] * block_size\n",
        "  # print(w)\n",
        "  for ch in w + '.':\n",
        "    idx = stoi[ch]\n",
        "    x.append(context)\n",
        "    y.append(idx)\n",
        "    # print(\"\".join(itos[i] for i in context), '--->', ch)\n",
        "    context = context[1:] + [idx]    # crop and append\n",
        "\n",
        "x = torch.tensor(x)\n",
        "y = torch.tensor(y)"
      ],
      "metadata": {
        "id": "-bKtRgfbsgDp"
      },
      "execution_count": 38,
      "outputs": []
    },
    {
      "cell_type": "code",
      "source": [
        "x.shape, x.dtype, y.shape, y.dtype"
      ],
      "metadata": {
        "colab": {
          "base_uri": "https://localhost:8080/"
        },
        "id": "eP-gvHDLsqxQ",
        "outputId": "b24618e4-d698-4af9-ef3c-c36a47f1eb35"
      },
      "execution_count": 39,
      "outputs": [
        {
          "output_type": "execute_result",
          "data": {
            "text/plain": [
              "(torch.Size([228146, 3]), torch.int64, torch.Size([228146]), torch.int64)"
            ]
          },
          "metadata": {},
          "execution_count": 39
        }
      ]
    },
    {
      "cell_type": "code",
      "source": [
        "# parameters\n",
        "g = torch.Generator().manual_seed(26451342)   # for reproducibility\n",
        "C = torch.randn((27, 2), generator=g)\n",
        "w1 = torch.randn((6, 100), generator=g)\n",
        "b1 = torch.randn((100), generator=g)\n",
        "w2 = torch.randn((100, 27), generator=g)\n",
        "b2 = torch.randn((27), generator=g)\n",
        "\n",
        "parameters = [C, w1, b1, w2, b2]"
      ],
      "metadata": {
        "id": "9a7JEyIItUw3"
      },
      "execution_count": 40,
      "outputs": []
    },
    {
      "cell_type": "code",
      "source": [
        "sum(p.nelement() for p in parameters)   # total no of parameters"
      ],
      "metadata": {
        "colab": {
          "base_uri": "https://localhost:8080/"
        },
        "id": "FE-T72YItnVe",
        "outputId": "40e9488c-0b34-4478-8bf7-8b42b48b3973"
      },
      "execution_count": 41,
      "outputs": [
        {
          "output_type": "execute_result",
          "data": {
            "text/plain": [
              "3481"
            ]
          },
          "metadata": {},
          "execution_count": 41
        }
      ]
    },
    {
      "cell_type": "code",
      "source": [
        "for p in parameters:\n",
        "  p.requires_grad = True"
      ],
      "metadata": {
        "id": "M1bPGWHBtp29"
      },
      "execution_count": 42,
      "outputs": []
    },
    {
      "cell_type": "markdown",
      "source": [
        "## Selecting a Learning Rate"
      ],
      "metadata": {
        "id": "Sv4G3PaQ8iB0"
      }
    },
    {
      "cell_type": "code",
      "source": [
        "lre = torch.linspace(-3, 0, 1000)\n",
        "lrs = 10**lre"
      ],
      "metadata": {
        "id": "GOb4ZBnb8odU"
      },
      "execution_count": 43,
      "outputs": []
    },
    {
      "cell_type": "markdown",
      "source": [
        "### Graph for selecting the LR exponent"
      ],
      "metadata": {
        "id": "x0szVVkS_c4f"
      }
    },
    {
      "cell_type": "markdown",
      "source": [
        "plt.plot(lr_i, loss_i)\n",
        "\n",
        "![lr_i.jpg](data:image/jpeg;base64,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)"
      ],
      "metadata": {
        "id": "ipr9JZuyJXs9"
      }
    },
    {
      "cell_type": "markdown",
      "source": [
        "## Training in Mini-Batch"
      ],
      "metadata": {
        "id": "UzoNkA6-C9GU"
      }
    },
    {
      "cell_type": "code",
      "source": [
        "lr_i = []\n",
        "loss_i = []\n",
        "\n",
        "for i in range(10000):\n",
        "\n",
        "  # constructing mini batch\n",
        "  idx = torch.randint(0, x.shape[0], (32,))    # mini batch of size 32; randomly selecting 32 examples to get the approximate gradient direction and accelerate the training process\n",
        "\n",
        "  # forward pass\n",
        "  emb = C[x[idx]]    # [32, 3, 2]\n",
        "  h = torch.tanh(emb.view(-1, 6) @ w1 + b1)   # [32, 100]\n",
        "  logits = h @ w2 + b2    # [32, 27]\n",
        "  loss = F.cross_entropy(logits, y[idx])\n",
        "  # print(loss.item())\n",
        "\n",
        "  # backward pass\n",
        "  for p in parameters:\n",
        "    p.grad = None\n",
        "  loss.backward()                # computationally most heavy step\n",
        "  # parameter update\n",
        "  # lr = lrs[i]\n",
        "  # lr = 0.1\n",
        "  lr = 0.01                      # learning rate decay\n",
        "  for p in parameters:\n",
        "    p.data += -lr * p.grad\n",
        "\n",
        "  # # track stats\n",
        "  # lr_i.append(lre[i])\n",
        "  # loss_i.append(loss.item())\n",
        "\n",
        "print(loss.item())"
      ],
      "metadata": {
        "colab": {
          "base_uri": "https://localhost:8080/"
        },
        "collapsed": true,
        "id": "QFQO-LfmtvFf",
        "outputId": "b3000182-3634-4ea9-fe71-b0816c5f9d2d"
      },
      "execution_count": 51,
      "outputs": [
        {
          "output_type": "stream",
          "name": "stdout",
          "text": [
            "2.2327191829681396\n"
          ]
        }
      ]
    },
    {
      "cell_type": "code",
      "source": [
        "# loss for entire dataset\n",
        "emb = C[x]\n",
        "h = torch.tanh(emb.view(-1, 6) @ w1 + b1)\n",
        "logits = h @ w2 + b2\n",
        "loss = F.cross_entropy(logits, y)\n",
        "loss"
      ],
      "metadata": {
        "colab": {
          "base_uri": "https://localhost:8080/"
        },
        "id": "qMWMcarTuA3c",
        "outputId": "fb0d8663-6ac6-42a0-844d-878d65c099d3"
      },
      "execution_count": 52,
      "outputs": [
        {
          "output_type": "execute_result",
          "data": {
            "text/plain": [
              "tensor(2.3083, grad_fn=<NllLossBackward0>)"
            ]
          },
          "metadata": {},
          "execution_count": 52
        }
      ]
    },
    {
      "cell_type": "markdown",
      "source": [
        "## Representing the initial embedding space"
      ],
      "metadata": {
        "id": "eLvb8R1Q-l6I"
      }
    },
    {
      "cell_type": "code",
      "source": [
        "plt.figure(figsize=(8, 8))\n",
        "plt.scatter(C[:, 0].data, C[:, 1].data, s=200)\n",
        "for i in range(C.shape[0]):\n",
        "  plt.text(C[i, 0].item(), C[i, 1].item(), itos[i], ha=\"center\", va=\"center\", color=\"white\")\n",
        "plt.grid()"
      ],
      "metadata": {
        "colab": {
          "base_uri": "https://localhost:8080/",
          "height": 676
        },
        "id": "u9VqYm6Q-lMy",
        "outputId": "53f7c266-2e94-4030-ec4c-2f5d9713deb3"
      },
      "execution_count": 127,
      "outputs": [
        {
          "output_type": "display_data",
          "data": {
            "text/plain": [
              "<Figure size 800x800 with 1 Axes>"
            ],
            "image/png": "[encoded data removed]"
          },
          "metadata": {}
        }
      ]
    },
    {
      "cell_type": "markdown",
      "source": [
        "# 🪓 Dataset Split"
      ],
      "metadata": {
        "id": "Jsgj3RCnwzpa"
      }
    },
    {
      "cell_type": "code",
      "source": [
        "# build dataset\n",
        "def build_dataset(words):\n",
        "  block_size = 3    # context length: how many previous characters we want to consider for predicting the next word\n",
        "  x, y = [], []\n",
        "\n",
        "  for w in words:\n",
        "    context = [0] * block_size\n",
        "    # print(w)\n",
        "    for ch in w + '.':\n",
        "      idx = stoi[ch]\n",
        "      x.append(context)\n",
        "      y.append(idx)\n",
        "      # print(\"\".join(itos[i] for i in context), '--->', ch)\n",
        "      context = context[1:] + [idx]    # crop and append\n",
        "\n",
        "  x = torch.tensor(x)\n",
        "  y = torch.tensor(y)\n",
        "  print(x.shape, y.shape)\n",
        "  return x, y\n",
        "\n",
        "import random\n",
        "random.seed(42)\n",
        "random.shuffle(words)\n",
        "n1 = int(0.8*len(words))\n",
        "n2 = int(0.9*len(words))\n",
        "\n",
        "# training, dev/validation, test dataset\n",
        "x_tr, y_tr = build_dataset(words[:n1])\n",
        "x_dev, y_dev = build_dataset(words[n1:n2])\n",
        "x_tst, y_tst = build_dataset(words[n2:])"
      ],
      "metadata": {
        "colab": {
          "base_uri": "https://localhost:8080/"
        },
        "id": "ed9OIXVLsk2C",
        "outputId": "e9c8f061-fb30-48ea-b1f1-06551784168f"
      },
      "execution_count": 85,
      "outputs": [
        {
          "output_type": "stream",
          "name": "stdout",
          "text": [
            "torch.Size([182661, 3]) torch.Size([182661])\n",
            "torch.Size([22763, 3]) torch.Size([22763])\n",
            "torch.Size([22722, 3]) torch.Size([22722])\n"
          ]
        }
      ]
    },
    {
      "cell_type": "markdown",
      "source": [
        "The train and val loss were roughly the same, so it was the case of UNDER-FITTING. Possible soln are :\n",
        "- scale up the NN\n",
        "- remove any bottlenecks (here, size of the embedding vector might be one)"
      ],
      "metadata": {
        "id": "zzCBb9NI-AWe"
      }
    },
    {
      "cell_type": "code",
      "source": [
        "# parameters\n",
        "g = torch.Generator().manual_seed(26451342)   # for reproducibility\n",
        "C = torch.randn((27, 10), generator=g)\n",
        "w1 = torch.randn((30, 200), generator=g)\n",
        "b1 = torch.randn((200), generator=g)\n",
        "w2 = torch.randn((200, 27), generator=g)\n",
        "b2 = torch.randn((27), generator=g)\n",
        "\n",
        "parameters = [C, w1, b1, w2, b2]"
      ],
      "metadata": {
        "id": "PLqLfhmfvHqc"
      },
      "execution_count": 152,
      "outputs": []
    },
    {
      "cell_type": "code",
      "source": [
        "sum(p.nelement() for p in parameters)   # total no of parameters"
      ],
      "metadata": {
        "colab": {
          "base_uri": "https://localhost:8080/"
        },
        "id": "M8UIi5Llw7cp",
        "outputId": "cdbfbfcd-a96c-4703-f6bb-6f53e8a0c671"
      },
      "execution_count": 153,
      "outputs": [
        {
          "output_type": "execute_result",
          "data": {
            "text/plain": [
              "11897"
            ]
          },
          "metadata": {},
          "execution_count": 153
        }
      ]
    },
    {
      "cell_type": "code",
      "source": [
        "for p in parameters:\n",
        "  p.requires_grad = True"
      ],
      "metadata": {
        "id": "BHmnUTpRw8uR"
      },
      "execution_count": 154,
      "outputs": []
    },
    {
      "cell_type": "code",
      "source": [
        "lr_i = []\n",
        "loss_i = []\n",
        "steps_i = []"
      ],
      "metadata": {
        "id": "fGH8MVCT92fF"
      },
      "execution_count": 155,
      "outputs": []
    },
    {
      "cell_type": "code",
      "source": [
        "# training in mini batch\n",
        "for i in range(200000):\n",
        "\n",
        "  # constructing mini batch\n",
        "  idx = torch.randint(0, x_tr.shape[0], (32,))    # mini batch of size 32; randomly selecting 32 examples to get the approximate gradient direction and accelerate the training process\n",
        "\n",
        "  # forward pass\n",
        "  emb = C[x_tr[idx]]    # [32, 3, 10]\n",
        "  h = torch.tanh(emb.view(-1, 30) @ w1 + b1)   # [32, 200]\n",
        "  logits = h @ w2 + b2    # [32, 27]\n",
        "  loss = F.cross_entropy(logits, y_tr[idx])\n",
        "  # print(loss.item())\n",
        "\n",
        "  # backward pass\n",
        "  for p in parameters:\n",
        "    p.grad = None\n",
        "  loss.backward()                # computationally most heavy step\n",
        "  # parameter update\n",
        "  # lr = lrs[i]\n",
        "  # lr = 0.1\n",
        "  lr = 0.1 if i < 100000 else 0.01                      # learning rate decay\n",
        "  for p in parameters:\n",
        "    p.data += -lr * p.grad\n",
        "\n",
        "  # # track stats\n",
        "  # lr_i.append(lre[i])\n",
        "  loss_i.append(loss.log10().item())      # log squashed the hockey stick graph of loss\n",
        "  steps_i.append(i)\n",
        "\n",
        "print(loss.item())"
      ],
      "metadata": {
        "colab": {
          "base_uri": "https://localhost:8080/"
        },
        "id": "-aGoKCCpw_S2",
        "outputId": "68ae543f-8200-4d1e-9215-9e3b70976ffa"
      },
      "execution_count": 156,
      "outputs": [
        {
          "output_type": "stream",
          "name": "stdout",
          "text": [
            "2.2435147762298584\n"
          ]
        }
      ]
    },
    {
      "cell_type": "code",
      "source": [
        "plt.plot(steps_i, loss_i)"
      ],
      "metadata": {
        "colab": {
          "base_uri": "https://localhost:8080/",
          "height": 447
        },
        "id": "Xe5SX1kh-vKx",
        "outputId": "225d5169-6f36-42e4-d980-5e54de3900f7"
      },
      "execution_count": 157,
      "outputs": [
        {
          "output_type": "execute_result",
          "data": {
            "text/plain": [
              "[<matplotlib.lines.Line2D at 0x7aa7b6df8e10>]"
            ]
          },
          "metadata": {},
          "execution_count": 157
        },
        {
          "output_type": "display_data",
          "data": {
            "text/plain": [
              "<Figure size 640x480 with 1 Axes>"
            ],
            "image/png": "[encoded data removed]"
          },
          "metadata": {}
        }
      ]
    },
    {
      "cell_type": "code",
      "source": [
        "# loss for entire dev dataset\n",
        "emb = C[x_dev]\n",
        "h = torch.tanh(emb.view(-1, 30) @ w1 + b1)\n",
        "logits = h @ w2 + b2\n",
        "loss = F.cross_entropy(logits, y_dev)\n",
        "loss"
      ],
      "metadata": {
        "colab": {
          "base_uri": "https://localhost:8080/"
        },
        "id": "HmH6sNld1rb1",
        "outputId": "0f6dcdca-40a1-427a-d929-757ccf784c23"
      },
      "execution_count": 158,
      "outputs": [
        {
          "output_type": "execute_result",
          "data": {
            "text/plain": [
              "tensor(2.1463, grad_fn=<NllLossBackward0>)"
            ]
          },
          "metadata": {},
          "execution_count": 158
        }
      ]
    },
    {
      "cell_type": "code",
      "source": [
        "# loss for entire train dataset\n",
        "emb = C[x_tr]\n",
        "h = torch.tanh(emb.view(-1, 30) @ w1 + b1)\n",
        "logits = h @ w2 + b2\n",
        "loss = F.cross_entropy(logits, y_tr)\n",
        "loss"
      ],
      "metadata": {
        "colab": {
          "base_uri": "https://localhost:8080/"
        },
        "id": "6-CHmTe4xERU",
        "outputId": "83b6c7a3-619c-4e0b-8e83-7ef015b372e6"
      },
      "execution_count": 159,
      "outputs": [
        {
          "output_type": "execute_result",
          "data": {
            "text/plain": [
              "tensor(2.1178, grad_fn=<NllLossBackward0>)"
            ]
          },
          "metadata": {},
          "execution_count": 159
        }
      ]
    },
    {
      "cell_type": "markdown",
      "source": [
        "# 😄 Generating Names"
      ],
      "metadata": {
        "id": "bw13nM8n6Go3"
      }
    },
    {
      "cell_type": "code",
      "source": [
        "g = torch.Generator().manual_seed(26451344 + 93)\n",
        "\n",
        "for i in range(20):\n",
        "  context = [0] * block_size\n",
        "  out = []\n",
        "\n",
        "  while True:\n",
        "    emb = C[context]      # [1, block_size, 10]\n",
        "    h = torch.tanh(emb.view(1, -1) @ w1 + b1)\n",
        "    logits = h @ w2 + b2\n",
        "    probs = F.softmax(logits, dim=1)\n",
        "    idx = torch.multinomial(probs, num_samples=1, generator=g).item()\n",
        "    context = context[1:] + [idx]\n",
        "    out.append(idx)\n",
        "    if idx == 0:\n",
        "      break\n",
        "\n",
        "  print(\"\".join(itos[i] for i in out))"
      ],
      "metadata": {
        "colab": {
          "base_uri": "https://localhost:8080/"
        },
        "id": "HPuits2KEhpM",
        "outputId": "a4da7630-0cf5-4501-f9d1-47bac3290abd"
      },
      "execution_count": 178,
      "outputs": [
        {
          "output_type": "stream",
          "name": "stdout",
          "text": [
            "saerid.\n",
            "nata.\n",
            "julan.\n",
            "leone.\n",
            "carmane.\n",
            "zoey.\n",
            "habelleeshana.\n",
            "tianni.\n",
            "wha.\n",
            "alle.\n",
            "fyrich.\n",
            "camiziah.\n",
            "deemaniya.\n",
            "allee.\n",
            "kaida.\n",
            "savaz.\n",
            "saleena.\n",
            "taiinnlladurry.\n",
            "jahlej.\n",
            "len.\n"
          ]
        }
      ]
    },
    {
      "cell_type": "code",
      "source": [],
      "metadata": {
        "id": "MW8Cbyi4Gf5Y"
      },
      "execution_count": null,
      "outputs": []
    }
  ]
}